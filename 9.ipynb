{
 "cells": [
  {
   "cell_type": "code",
   "execution_count": 1,
   "metadata": {
    "colab": {
     "base_uri": "https://localhost:8080/"
    },
    "executionInfo": {
     "elapsed": 9912,
     "status": "ok",
     "timestamp": 1736857561535,
     "user": {
      "displayName": "Deepak Shetty",
      "userId": "15824861802164566456"
     },
     "user_tz": -330
    },
    "id": "CNOYoVjAtALS",
    "outputId": "12e7f7a9-2c4e-4179-b79b-7479f032b4d2"
   },
   "outputs": [
    {
     "name": "stdout",
     "output_type": "stream",
     "text": [
      "Epoch [10/100] | d_loss: 1.0295, g_loss: 0.6851\n",
      "Epoch [20/100] | d_loss: 0.7939, g_loss: 0.7324\n",
      "Epoch [30/100] | d_loss: 0.6648, g_loss: 0.8607\n",
      "Epoch [40/100] | d_loss: 0.6500, g_loss: 0.8795\n",
      "Epoch [50/100] | d_loss: 0.6706, g_loss: 0.8191\n",
      "Epoch [60/100] | d_loss: 0.7020, g_loss: 0.8238\n",
      "Epoch [70/100] | d_loss: 0.6308, g_loss: 0.8818\n",
      "Epoch [80/100] | d_loss: 0.5489, g_loss: 0.9909\n",
      "Epoch [90/100] | d_loss: 0.4374, g_loss: 1.2419\n",
      "Epoch [100/100] | d_loss: 0.3093, g_loss: 1.9461\n"
     ]
    }
   ],
   "source": [
    "import torch\n",
    "import torch.nn as nn\n",
    "import torch.optim as optim\n",
    "from torchvision.utils import save_image\n",
    "\n",
    "device = torch.device(\"cuda\" if torch.cuda.is_available() else \"cpu\")\n",
    "\n",
    "class Generator(nn.Module):\n",
    "    def __init__(self, noise_dim, text_dim, img_size):\n",
    "        super(Generator, self).__init__()\n",
    "        self.net = nn.Sequential(\n",
    "            nn.Linear(noise_dim + text_dim, 256),\n",
    "            nn.ReLU(),\n",
    "            nn.Linear(256, 512),\n",
    "            nn.ReLU(),\n",
    "            nn.Linear(512, img_size * img_size * 3),\n",
    "            nn.Tanh()\n",
    "        )\n",
    "\n",
    "    def forward(self, noise, text):\n",
    "        x = torch.cat((noise, text), dim=1)\n",
    "        return self.net(x).view(-1, 3, img_size, img_size)\n",
    "\n",
    "class Discriminator(nn.Module):\n",
    "    def __init__(self, img_size, text_dim):\n",
    "        super(Discriminator, self).__init__()\n",
    "        self.net = nn.Sequential(\n",
    "            nn.Linear(img_size * img_size * 3 + text_dim, 512),\n",
    "            nn.ReLU(),\n",
    "            nn.Linear(512, 256),\n",
    "            nn.ReLU(),\n",
    "            nn.Linear(256, 1),\n",
    "            nn.Sigmoid()\n",
    "        )\n",
    "\n",
    "    def forward(self, img, text):\n",
    "        x = torch.cat((img.view(img.size(0), -1), text), dim=1)\n",
    "        return self.net(x)\n",
    "\n",
    "noise_dim, text_dim, img_size = 100, 128, 64\n",
    "batch_size, lr, epochs = 32, 0.0002, 100\n",
    "\n",
    "G = Generator(noise_dim, text_dim, img_size).to(device)\n",
    "D = Discriminator(img_size, text_dim).to(device)\n",
    "criterion = nn.BCELoss()\n",
    "optimizer_G = optim.Adam(G.parameters(), lr=lr)\n",
    "optimizer_D = optim.Adam(D.parameters(), lr=lr)\n",
    "\n",
    "def generate_noise(batch_size, dim):\n",
    "    return torch.randn(batch_size, dim).to(device)\n",
    "\n",
    "def generate_text_embeddings(batch_size, dim):\n",
    "    return torch.randn(batch_size, dim).to(device)\n",
    "\n",
    "for epoch in range(epochs):\n",
    "    real_imgs = torch.randn(batch_size, 3, img_size, img_size).to(device)\n",
    "    real_texts = generate_text_embeddings(batch_size, text_dim)\n",
    "    real_labels, fake_labels = torch.ones(batch_size, 1).to(device), torch.zeros(batch_size, 1).to(device)\n",
    "\n",
    "    fake_imgs = G(generate_noise(batch_size, noise_dim), generate_text_embeddings(batch_size, text_dim))\n",
    "\n",
    "    d_loss_real = criterion(D(real_imgs, real_texts), real_labels)\n",
    "    d_loss_fake = criterion(D(fake_imgs.detach(), real_texts), fake_labels)\n",
    "    d_loss = d_loss_real + d_loss_fake\n",
    "\n",
    "    optimizer_D.zero_grad()\n",
    "    d_loss.backward()\n",
    "    optimizer_D.step()\n",
    "\n",
    "    g_loss = criterion(D(fake_imgs, real_texts), real_labels)\n",
    "    optimizer_G.zero_grad()\n",
    "    g_loss.backward()\n",
    "    optimizer_G.step()\n",
    "\n",
    "    if (epoch + 1) % 10 == 0:\n",
    "        print(f\"Epoch [{epoch + 1}/{epochs}] | d_loss: {d_loss.item():.4f}, g_loss: {g_loss.item():.4f}\")\n",
    "        save_image(fake_imgs.data[:25], f\"generated_{epoch + 1}.png\", nrow=5, normalize=True)\n",
    "\n",
    "torch.save(G.state_dict(), \"generator.pth\")\n",
    "torch.save(D.state_dict(), \"discriminator.pth\")"
   ]
  },
  {
   "cell_type": "code",
   "execution_count": null,
   "metadata": {},
   "outputs": [],
   "source": []
  }
 ],
 "metadata": {
  "accelerator": "GPU",
  "colab": {
   "gpuType": "T4",
   "provenance": []
  },
  "kernelspec": {
   "display_name": "Python 3 (ipykernel)",
   "language": "python",
   "name": "python3"
  },
  "language_info": {
   "codemirror_mode": {
    "name": "ipython",
    "version": 3
   },
   "file_extension": ".py",
   "mimetype": "text/x-python",
   "name": "python",
   "nbconvert_exporter": "python",
   "pygments_lexer": "ipython3",
   "version": "3.12.3"
  }
 },
 "nbformat": 4,
 "nbformat_minor": 4
}
