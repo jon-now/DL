{
 "cells": [
  {
   "cell_type": "code",
   "execution_count": 4,
   "id": "62b2a4ac-05f8-4ab0-917a-8bbbf2019d69",
   "metadata": {
    "colab": {
     "base_uri": "https://localhost:8080/"
    },
    "executionInfo": {
     "elapsed": 59123,
     "status": "ok",
     "timestamp": 1736856465752,
     "user": {
      "displayName": "Deepak Shetty",
      "userId": "15824861802164566456"
     },
     "user_tz": -330
    },
    "id": "62b2a4ac-05f8-4ab0-917a-8bbbf2019d69",
    "outputId": "d7b8f43c-2361-4310-ffd3-2e8af12dee9d"
   },
   "outputs": [
    {
     "name": "stdout",
     "output_type": "stream",
     "text": [
      "Epoch 1/5\n",
      "938/938 - 5s - 6ms/step - accuracy: 0.9457 - loss: 0.1798\n",
      "Epoch 2/5\n",
      "938/938 - 5s - 5ms/step - accuracy: 0.9832 - loss: 0.0551\n",
      "Epoch 3/5\n",
      "938/938 - 5s - 5ms/step - accuracy: 0.9880 - loss: 0.0394\n",
      "Epoch 4/5\n",
      "938/938 - 5s - 5ms/step - accuracy: 0.9909 - loss: 0.0296\n",
      "Epoch 5/5\n",
      "938/938 - 5s - 5ms/step - accuracy: 0.9925 - loss: 0.0243\n",
      "MNIST Test Accuracy: 0.9874\n",
      "Downloading data from https://storage.googleapis.com/tensorflow/tf-keras-datasets/imdb.npz\n",
      "\u001b[1m17464789/17464789\u001b[0m \u001b[32m━━━━━━━━━━━━━━━━━━━━\u001b[0m\u001b[37m\u001b[0m \u001b[1m3s\u001b[0m 0us/step\n",
      "Epoch 1/5\n"
     ]
    },
    {
     "name": "stderr",
     "output_type": "stream",
     "text": [
      "C:\\Users\\srdee\\anaconda3\\envs\\py\\Lib\\site-packages\\keras\\src\\layers\\core\\embedding.py:90: UserWarning: Argument `input_length` is deprecated. Just remove it.\n",
      "  warnings.warn(\n"
     ]
    },
    {
     "name": "stdout",
     "output_type": "stream",
     "text": [
      "196/196 - 7s - 36ms/step - accuracy: 0.7449 - loss: 0.4861\n",
      "Epoch 2/5\n",
      "196/196 - 6s - 31ms/step - accuracy: 0.9056 - loss: 0.2352\n",
      "Epoch 3/5\n",
      "196/196 - 6s - 31ms/step - accuracy: 0.9470 - loss: 0.1456\n",
      "Epoch 4/5\n",
      "196/196 - 6s - 32ms/step - accuracy: 0.9765 - loss: 0.0755\n",
      "Epoch 5/5\n",
      "196/196 - 6s - 31ms/step - accuracy: 0.9932 - loss: 0.0304\n",
      "IMDB Test Accuracy: 0.8532\n"
     ]
    }
   ],
   "source": [
    "import tensorflow as tf\n",
    "from tensorflow.keras import layers, models\n",
    "from tensorflow.keras.datasets import mnist, imdb\n",
    "from tensorflow.keras.utils import to_categorical\n",
    "from tensorflow.keras.preprocessing.sequence import pad_sequences\n",
    "\n",
    "def mnist_classification():\n",
    "    (train_img, train_labels), (test_img, test_labels) = mnist.load_data()\n",
    "    train_img = train_img[..., tf.newaxis] / 255.0\n",
    "    test_img = test_img[..., tf.newaxis] / 255.0\n",
    "    train_labels, test_labels = to_categorical(train_labels), to_categorical(test_labels)\n",
    "\n",
    "    model = models.Sequential([\n",
    "        layers.Conv2D(32, (3, 3), activation='relu', input_shape=(28, 28, 1)),\n",
    "        layers.MaxPooling2D(2),\n",
    "        layers.Conv2D(64, (3, 3), activation='relu'),\n",
    "        layers.MaxPooling2D(2),\n",
    "        layers.Flatten(),\n",
    "        layers.Dense(64, activation='relu'),\n",
    "        layers.Dense(10, activation='softmax')\n",
    "    ])\n",
    "\n",
    "    model.compile(optimizer='adam', loss='categorical_crossentropy', metrics=['accuracy'])\n",
    "    model.fit(train_img, train_labels, epochs=5, batch_size=64, verbose=2)\n",
    "    test_acc = model.evaluate(test_img, test_labels, verbose=0)[1]\n",
    "    print(f'MNIST Test Accuracy: {test_acc:.4f}')\n",
    "\n",
    "def imdb_classification():\n",
    "    (train_data, train_labels), (test_data, test_labels) = imdb.load_data(num_words=10000)\n",
    "    train_data = pad_sequences(train_data, maxlen=500)\n",
    "    test_data = pad_sequences(test_data, maxlen=500)\n",
    "\n",
    "    model = models.Sequential([\n",
    "        layers.Embedding(10000, 128, input_length=500),\n",
    "        layers.Conv1D(32, 7, activation='relu'),\n",
    "        layers.MaxPooling1D(5),\n",
    "        layers.Conv1D(32, 7, activation='relu'),\n",
    "        layers.GlobalMaxPooling1D(),\n",
    "        layers.Dense(1, activation='sigmoid')\n",
    "    ])\n",
    "\n",
    "    model.compile(optimizer='adam', loss='binary_crossentropy', metrics=['accuracy'])\n",
    "    model.fit(train_data, train_labels, epochs=5, batch_size=128, verbose=2)\n",
    "    test_acc = model.evaluate(test_data, test_labels, verbose=0)[1]\n",
    "    print(f'IMDB Test Accuracy: {test_acc:.4f}')\n",
    "\n",
    "mnist_classification()\n",
    "imdb_classification()"
   ]
  }
 ],
 "metadata": {
  "accelerator": "GPU",
  "colab": {
   "gpuType": "T4",
   "provenance": []
  },
  "kernelspec": {
   "display_name": "Python 3 (ipykernel)",
   "language": "python",
   "name": "python3"
  },
  "language_info": {
   "codemirror_mode": {
    "name": "ipython",
    "version": 3
   },
   "file_extension": ".py",
   "mimetype": "text/x-python",
   "name": "python",
   "nbconvert_exporter": "python",
   "pygments_lexer": "ipython3",
   "version": "3.12.3"
  }
 },
 "nbformat": 4,
 "nbformat_minor": 5
}
